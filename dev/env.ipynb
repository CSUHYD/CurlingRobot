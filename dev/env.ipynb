{
 "cells": [
  {
   "cell_type": "code",
   "execution_count": 1,
   "metadata": {},
   "outputs": [],
   "source": [
    "import torch"
   ]
  },
  {
   "cell_type": "code",
   "execution_count": 23,
   "metadata": {},
   "outputs": [],
   "source": [
    "# env\n",
    "class Env():\n",
    "\n",
    "    def __init__(self):\n",
    "        self.state = [1, 2, 3, 4, 5]\n",
    "        self.reward = 0\n",
    "        self.f = self.yield_test()\n",
    "\n",
    "    def yield_test(self):\n",
    "        index = 0\n",
    "        while True:\n",
    "            index = index % len(self.state)\n",
    "            yield self.state[index]\n",
    "            index += 1\n",
    "\n",
    "    def next_state(self):\n",
    "        return (next(self.f))\n",
    "\n",
    "    def get_reward(self):\n",
    "        self.reward = int(input(\"Please input reward: \"))\n",
    "        return self.reward\n",
    "\n",
    "    def get_action(self, mu, std):\n",
    "        action = torch.normal(mu, std)\n",
    "        action = action.data.numpy()\n",
    "        return action"
   ]
  },
  {
   "cell_type": "code",
   "execution_count": 3,
   "metadata": {},
   "outputs": [],
   "source": [
    "def get_action(mu, std):\n",
    "    action = torch.normal(mu, std)\n",
    "    action = action.data.numpy()\n",
    "    return action"
   ]
  },
  {
   "cell_type": "code",
   "execution_count": 22,
   "metadata": {},
   "outputs": [
    {
     "data": {
      "text/plain": [
       "array([1.3975265, 1.9339727], dtype=float32)"
      ]
     },
     "execution_count": 22,
     "metadata": {},
     "output_type": "execute_result"
    }
   ],
   "source": [
    "get_action(mu=torch.tensor([1.,1,]), std=torch.tensor([1.,1]))"
   ]
  },
  {
   "cell_type": "code",
   "execution_count": null,
   "metadata": {},
   "outputs": [],
   "source": []
  }
 ],
 "metadata": {
  "kernelspec": {
   "display_name": "py36",
   "language": "python",
   "name": "py36"
  },
  "language_info": {
   "codemirror_mode": {
    "name": "ipython",
    "version": 3
   },
   "file_extension": ".py",
   "mimetype": "text/x-python",
   "name": "python",
   "nbconvert_exporter": "python",
   "pygments_lexer": "ipython3",
   "version": "3.6.8"
  }
 },
 "nbformat": 4,
 "nbformat_minor": 2
}
