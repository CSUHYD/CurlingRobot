{
 "cells": [
  {
   "cell_type": "code",
   "execution_count": null,
   "metadata": {},
   "outputs": [],
   "source": [
    "import numpy as np\n",
    "from collections import deque\n",
    "import torch\n",
    "import torch.nn as nn\n",
    "import torch.nn.functional as F\n",
    "from hparams import HyperParams as hp\n",
    "from env import Env"
   ]
  },
  {
   "cell_type": "code",
   "execution_count": null,
   "metadata": {},
   "outputs": [],
   "source": [
    "num_inputs = 1\n",
    "num_actions = 1\n",
    "episodes = 2"
   ]
  },
  {
   "cell_type": "markdown",
   "metadata": {},
   "source": [
    "## Model"
   ]
  },
  {
   "cell_type": "code",
   "execution_count": null,
   "metadata": {},
   "outputs": [],
   "source": [
    "class Actor(nn.Module):\n",
    "    def __init__(self, num_inputs, num_outputs):\n",
    "        self.num_inputs = num_inputs\n",
    "        self.num_outputs = num_outputs\n",
    "        super(Actor, self).__init__()\n",
    "        self.fc1 = nn.Linear(num_inputs, hp.hidden)\n",
    "        self.fc2 = nn.Linear(hp.hidden, hp.hidden)\n",
    "        self.fc3 = nn.Linear(hp.hidden, num_outputs)\n",
    "        self.fc3.weight.data.mul_(0.1)\n",
    "        self.fc3.bias.data.mul_(0.0)\n",
    "\n",
    "    def forward(self, x):\n",
    "        x = torch.tanh(self.fc1(x))\n",
    "        x = torch.tanh(self.fc2(x))\n",
    "        mu = self.fc3(x)\n",
    "        logstd = torch.zeros_like(mu)\n",
    "        std = torch.exp(logstd)\n",
    "        return mu, std, logstd\n",
    "\n",
    "\n",
    "class Critic(nn.Module):\n",
    "    def __init__(self, num_inputs):\n",
    "        super(Critic, self).__init__()\n",
    "        self.fc1 = nn.Linear(num_inputs, hp.hidden)\n",
    "        self.fc2 = nn.Linear(hp.hidden, hp.hidden)\n",
    "        self.fc3 = nn.Linear(hp.hidden, 1)\n",
    "        self.fc3.weight.data.mul_(0.1)\n",
    "        self.fc3.bias.data.mul_(0.0)\n",
    "\n",
    "    def forward(self, x):\n",
    "        x = torch.tanh(self.fc1(x))\n",
    "        x = torch.tanh(self.fc2(x))\n",
    "        v = self.fc3(x)\n",
    "        return v"
   ]
  },
  {
   "cell_type": "markdown",
   "metadata": {},
   "source": [
    "## Utils"
   ]
  },
  {
   "cell_type": "code",
   "execution_count": null,
   "metadata": {},
   "outputs": [],
   "source": [
    "def get_action(mu, std):\n",
    "    action = torch.normal(mu, std)\n",
    "    action = action.data.numpy()\n",
    "    return action"
   ]
  },
  {
   "cell_type": "code",
   "execution_count": null,
   "metadata": {},
   "outputs": [],
   "source": [
    "get_action(torch.tensor([1.,1.]), torch.tensor([2.,0.]))"
   ]
  },
  {
   "cell_type": "markdown",
   "metadata": {},
   "source": [
    "## Main"
   ]
  },
  {
   "cell_type": "markdown",
   "metadata": {},
   "source": [
    "### evaluation"
   ]
  },
  {
   "cell_type": "code",
   "execution_count": null,
   "metadata": {},
   "outputs": [],
   "source": [
    "env = Env()\n",
    "actor = Actor(num_inputs, num_actions)\n",
    "critic = Critic(num_inputs)"
   ]
  },
  {
   "cell_type": "code",
   "execution_count": null,
   "metadata": {},
   "outputs": [],
   "source": [
    "# Sets the module in evaluation mode.\n",
    "actor.eval()\n",
    "critic.eval()\n",
    "memory = deque()\n",
    "scores = []\n",
    "\n",
    "for episode in range(episodes):\n",
    "    print('episode {} start:'.format(episode))\n",
    "    state = env.reset()\n",
    "    score = 0\n",
    "    \n",
    "    for i in range(10):\n",
    "        mu, std, _ = actor(torch.tensor((state), dtype=torch.float32).unsqueeze(0))\n",
    "        action = get_action(mu, std)[0]\n",
    "        next_state, reward, done, _ = env.step()\n",
    "        if done:\n",
    "            mask = 0\n",
    "        else:\n",
    "            mask = 1\n",
    "            \n",
    "        memory.append([state, action, reward, mask])\n",
    "        score += reward\n",
    "        state = next_state\n",
    "        \n",
    "        if done:\n",
    "            break\n",
    "        \n",
    "    scores.append(score)\n",
    "        \n",
    "score_avg = np.mean(scores)\n",
    "print('{} episode score is {:.2f}'.format(episodes, score_avg))\n",
    "print(memory)"
   ]
  },
  {
   "cell_type": "markdown",
   "metadata": {},
   "source": [
    "### training"
   ]
  },
  {
   "cell_type": "code",
   "execution_count": null,
   "metadata": {},
   "outputs": [],
   "source": [
    "actor.train(), critic.train()\n",
    "# train_model(actor, critic, memory, actor_optim, critic_optim)"
   ]
  },
  {
   "cell_type": "code",
   "execution_count": null,
   "metadata": {},
   "outputs": [],
   "source": [
    "def train_model(actor, critic, memory, actor_optim, critic_optim):\n",
    "    memory = np.array(memory)\n",
    "    states = np.vstack(memory[:, 0])\n",
    "    actions = list(memory[:, 1])\n",
    "    rewards = list(memory[:, 2])\n",
    "    masks = list(memory[:, 3])\n",
    "\n",
    "    returns = get_returns(rewards, masks)\n",
    "    train_critic(critic, states, returns, critic_optim)\n",
    "    train_actor(actor, returns, states, actions, actor_optim)\n",
    "    return returns\n"
   ]
  },
  {
   "cell_type": "code",
   "execution_count": null,
   "metadata": {},
   "outputs": [],
   "source": [
    "def get_returns(rewards, masks):\n",
    "    rewards = torch.Tensor(rewards)\n",
    "    masks = torch.Tensor(masks)\n",
    "    returns = torch.zeros_like(rewards)\n",
    "\n",
    "    running_returns = 0\n",
    "\n",
    "    for t in reversed(range(0, len(rewards))):\n",
    "        running_returns = rewards[t] + hp.gamma * running_returns * masks[t]\n",
    "        returns[t] = running_returns\n",
    "\n",
    "    returns = (returns - returns.mean()) / returns.std()\n",
    "    return returns"
   ]
  },
  {
   "cell_type": "code",
   "execution_count": null,
   "metadata": {},
   "outputs": [],
   "source": [
    "memory"
   ]
  },
  {
   "cell_type": "markdown",
   "metadata": {},
   "source": [
    "# "
   ]
  }
 ],
 "metadata": {
  "kernelspec": {
   "display_name": "py36",
   "language": "python",
   "name": "py36"
  },
  "language_info": {
   "codemirror_mode": {
    "name": "ipython",
    "version": 3
   },
   "file_extension": ".py",
   "mimetype": "text/x-python",
   "name": "python",
   "nbconvert_exporter": "python",
   "pygments_lexer": "ipython3",
   "version": "3.6.8"
  }
 },
 "nbformat": 4,
 "nbformat_minor": 2
}
